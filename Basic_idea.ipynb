{
 "cells": [
  {
   "cell_type": "code",
   "execution_count": 1,
   "metadata": {},
   "outputs": [
    {
     "name": "stdout",
     "output_type": "stream",
     "text": [
      "Original feature matrix shape: (100, 5)\n",
      "Selected feature matrix shape: (100, 3)\n",
      "Polynomial feature matrix shape: (100, 20)\n"
     ]
    }
   ],
   "source": [
    "import numpy as np\n",
    "from sklearn.datasets import make_regression\n",
    "from sklearn.feature_selection import SelectKBest, f_regression\n",
    "from sklearn.preprocessing import PolynomialFeatures\n",
    "X, y = make_regression(n_samples=100, n_features=5, noise=0.1, random_state=42)\n",
    "\n",
    "# Feature selection using SelectKBest with f_regression scoring\n",
    "selector = SelectKBest(score_func=f_regression, k=3)\n",
    "X_selected = selector.fit_transform(X, y)\n",
    "\n",
    "# Polynomial feature engineering\n",
    "poly = PolynomialFeatures(degree=2, include_bias=False)\n",
    "X_poly = poly.fit_transform(X)\n",
    "\n",
    "print(\"Original feature matrix shape:\", X.shape)\n",
    "print(\"Selected feature matrix shape:\", X_selected.shape)\n",
    "print(\"Polynomial feature matrix shape:\", X_poly.shape)"
   ]
  },
  {
   "cell_type": "code",
   "execution_count": 2,
   "metadata": {},
   "outputs": [
    {
     "name": "stdout",
     "output_type": "stream",
     "text": [
      "Ridge - Best Parameters: {'alpha': 0.1}, MSE: 0.05733078713593104\n",
      "RandomForest - Best Parameters: {'n_estimators': 200}, MSE: 4042.3406315870634\n",
      "ExtraTrees - Best Parameters: {'n_estimators': 200}, MSE: 3305.801135082347\n",
      "AdaBoost - Best Parameters: {'n_estimators': 200}, MSE: 4481.765814302971\n",
      "SVM - Best Parameters: {'C': 10.0, 'kernel': 'linear'}, MSE: 0.01492321732702547\n"
     ]
    }
   ],
   "source": [
    "from sklearn.model_selection import train_test_split, GridSearchCV\n",
    "from sklearn.linear_model import Ridge\n",
    "from sklearn.ensemble import RandomForestRegressor, ExtraTreesRegressor, AdaBoostRegressor\n",
    "from sklearn.svm import SVR\n",
    "from sklearn.metrics import mean_squared_error\n",
    "\n",
    "# Split data into training and testing sets\n",
    "X_train, X_test, y_train, y_test = train_test_split(X, y, test_size=0.2, random_state=42)\n",
    "\n",
    "# Define the algorithms\n",
    "algorithms = {\n",
    "    'Ridge': Ridge(),\n",
    "    'RandomForest': RandomForestRegressor(),\n",
    "    'ExtraTrees': ExtraTreesRegressor(),\n",
    "    'AdaBoost': AdaBoostRegressor(),\n",
    "    'SVM': SVR()\n",
    "}\n",
    "\n",
    "# just example\n",
    "param_grids = {\n",
    "    'Ridge': {'alpha': [0.1, 1.0, 10.0]},\n",
    "    'RandomForest': {'n_estimators': [50, 100, 200]},\n",
    "    'ExtraTrees': {'n_estimators': [50, 100, 200]},\n",
    "    'AdaBoost': {'n_estimators': [50, 100, 200]},\n",
    "    'SVM': {'C': [0.1, 1.0, 10.0], 'kernel': ['linear', 'rbf']}\n",
    "}\n",
    "\n",
    "# Tune hyperparameters using grid search\n",
    "for name, estimator in algorithms.items():\n",
    "    grid_search = GridSearchCV(estimator, param_grids[name], scoring='neg_mean_squared_error', cv=3)\n",
    "    grid_search.fit(X_train, y_train)\n",
    "    best_estimator = grid_search.best_estimator_\n",
    "    y_pred = best_estimator.predict(X_test)\n",
    "    mse = mean_squared_error(y_test, y_pred)\n",
    "    print(f\"{name} - Best Parameters: {grid_search.best_params_}, MSE: {mse}\")"
   ]
  }
 ],
 "metadata": {
  "kernelspec": {
   "display_name": "Python 3",
   "language": "python",
   "name": "python3"
  },
  "language_info": {
   "codemirror_mode": {
    "name": "ipython",
    "version": 3
   },
   "file_extension": ".py",
   "mimetype": "text/x-python",
   "name": "python",
   "nbconvert_exporter": "python",
   "pygments_lexer": "ipython3",
   "version": "3.11.9"
  }
 },
 "nbformat": 4,
 "nbformat_minor": 2
}
